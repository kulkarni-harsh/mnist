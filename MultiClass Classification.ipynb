{
 "cells": [
  {
   "cell_type": "code",
   "execution_count": 1,
   "id": "21590287-b0d3-4f30-9425-b5a2b191613d",
   "metadata": {},
   "outputs": [],
   "source": [
    "import numpy as np\n",
    "import pandas as pd\n",
    "\n",
    "import matplotlib.pyplot as plt\n",
    "import seaborn as sns\n",
    "\n",
    "from sklearn.datasets import fetch_openml\n",
    "\n",
    "from sklearn.svm import SVC\n",
    "from sklearn.multiclass import OneVsOneClassifier,OneVsRestClassifier\n",
    "from sklearn.model_selection import cross_val_predict\n"
   ]
  },
  {
   "cell_type": "code",
   "execution_count": null,
   "id": "833d0f73-ece7-40c1-97c9-fda576ac59b2",
   "metadata": {},
   "outputs": [],
   "source": []
  },
  {
   "cell_type": "markdown",
   "id": "404e18c8-4987-4db9-9d1a-55c27c7237aa",
   "metadata": {},
   "source": [
    "In our case we have to determine the number based on its image. There are 10 possible outcomes of this i.e. \n",
    "0,1,2,3,. . .,9\n",
    "\n",
    "In multiclass classification there are two types of classification techniques\n",
    "1. One Vs One Classification\n",
    "In OvO technique, binary classifiers for every possible pair of classes are created and compared.\n",
    "The class winning majority of these matches is considered the output label.\n",
    "In our case we will have total of 45 classifiers.\n",
    "Advantage of this type of technique is that every classifier only needs to be trained on the part of training set for two classifiers it must distinguish\n",
    "\n",
    "\n",
    "2. One Vs. Rest Classification\n",
    "In this technique, we create classifier for every class and the one with highesh score is selected.\n",
    "In our case , we will have 10 binary classifiers (from 0-detector to 9-detector).\n"
   ]
  },
  {
   "cell_type": "code",
   "execution_count": 2,
   "id": "2f37073f-8080-4e72-a60f-59c3d93929fe",
   "metadata": {},
   "outputs": [],
   "source": [
    "mnist=fetch_openml('mnist_784',version=1)"
   ]
  },
  {
   "cell_type": "code",
   "execution_count": 3,
   "id": "07c27be1-636a-4a37-8876-ddaa6894e534",
   "metadata": {},
   "outputs": [],
   "source": [
    "X,y=mnist['data'],mnist['target']\n",
    "y=y.astype(np.uint8)"
   ]
  },
  {
   "cell_type": "code",
   "execution_count": 4,
   "id": "1ddf0979-f077-462a-a99b-6f2586c9a859",
   "metadata": {},
   "outputs": [],
   "source": [
    "X_train,X_test,y_train,y_test=X[:60000],X[60000:],y[:60000],y[60000:]"
   ]
  },
  {
   "cell_type": "code",
   "execution_count": 5,
   "id": "70c7584a-df99-4912-a3c3-a3d27328d036",
   "metadata": {},
   "outputs": [],
   "source": [
    "some_digit=X.iloc[5]"
   ]
  },
  {
   "cell_type": "code",
   "execution_count": 6,
   "id": "09d88db9-175b-4722-b174-916b61d8f833",
   "metadata": {},
   "outputs": [],
   "source": [
    "some_digit_image=some_digit.to_numpy().reshape(28,28)"
   ]
  },
  {
   "cell_type": "code",
   "execution_count": 7,
   "id": "5550aa48-e92f-430a-bda0-6e7bb37201ac",
   "metadata": {},
   "outputs": [
    {
     "data": {
      "text/plain": [
       "<matplotlib.image.AxesImage at 0x7fe80bbae730>"
      ]
     },
     "execution_count": 7,
     "metadata": {},
     "output_type": "execute_result"
    },
    {
     "data": {
      "image/png": "[encoded data removed]",
      "text/plain": [
       "<Figure size 432x288 with 1 Axes>"
      ]
     },
     "metadata": {
      "needs_background": "light"
     },
     "output_type": "display_data"
    }
   ],
   "source": [
    "plt.imshow(some_digit_image,cmap='binary')"
   ]
  },
  {
   "cell_type": "code",
   "execution_count": null,
   "id": "c20a0f4c-a8a1-4b47-a176-c65d20a8241a",
   "metadata": {},
   "outputs": [],
   "source": []
  },
  {
   "cell_type": "code",
   "execution_count": 8,
   "id": "9c98dc95-db84-47a7-9709-214af4397673",
   "metadata": {},
   "outputs": [],
   "source": [
    "svm_clf_ovr=OneVsRestClassifier(SVC())"
   ]
  },
  {
   "cell_type": "code",
   "execution_count": 9,
   "id": "6d29e875-de32-4ae9-9124-389e54d18cab",
   "metadata": {},
   "outputs": [
    {
     "data": {
      "text/plain": [
       "OneVsRestClassifier(estimator=SVC())"
      ]
     },
     "execution_count": 9,
     "metadata": {},
     "output_type": "execute_result"
    }
   ],
   "source": [
    "svm_clf_ovr.fit(X_train,y_train)"
   ]
  },
  {
   "cell_type": "code",
   "execution_count": null,
   "id": "4ba08cce-1125-46e4-b419-50627a3ba42c",
   "metadata": {},
   "outputs": [],
   "source": []
  },
  {
   "cell_type": "code",
   "execution_count": 10,
   "id": "2f90737e-3b62-415e-9a47-0ace44cc1217",
   "metadata": {},
   "outputs": [
    {
     "name": "stderr",
     "output_type": "stream",
     "text": [
      "/home/harshkulkarni/venv/lib/python3.9/site-packages/sklearn/base.py:445: UserWarning: X does not have valid feature names, but SVC was fitted with feature names\n",
      "  warnings.warn(\n",
      "/home/harshkulkarni/venv/lib/python3.9/site-packages/sklearn/base.py:445: UserWarning: X does not have valid feature names, but SVC was fitted with feature names\n",
      "  warnings.warn(\n",
      "/home/harshkulkarni/venv/lib/python3.9/site-packages/sklearn/base.py:445: UserWarning: X does not have valid feature names, but SVC was fitted with feature names\n",
      "  warnings.warn(\n",
      "/home/harshkulkarni/venv/lib/python3.9/site-packages/sklearn/base.py:445: UserWarning: X does not have valid feature names, but SVC was fitted with feature names\n",
      "  warnings.warn(\n",
      "/home/harshkulkarni/venv/lib/python3.9/site-packages/sklearn/base.py:445: UserWarning: X does not have valid feature names, but SVC was fitted with feature names\n",
      "  warnings.warn(\n",
      "/home/harshkulkarni/venv/lib/python3.9/site-packages/sklearn/base.py:445: UserWarning: X does not have valid feature names, but SVC was fitted with feature names\n",
      "  warnings.warn(\n",
      "/home/harshkulkarni/venv/lib/python3.9/site-packages/sklearn/base.py:445: UserWarning: X does not have valid feature names, but SVC was fitted with feature names\n",
      "  warnings.warn(\n",
      "/home/harshkulkarni/venv/lib/python3.9/site-packages/sklearn/base.py:445: UserWarning: X does not have valid feature names, but SVC was fitted with feature names\n",
      "  warnings.warn(\n",
      "/home/harshkulkarni/venv/lib/python3.9/site-packages/sklearn/base.py:445: UserWarning: X does not have valid feature names, but SVC was fitted with feature names\n",
      "  warnings.warn(\n",
      "/home/harshkulkarni/venv/lib/python3.9/site-packages/sklearn/base.py:445: UserWarning: X does not have valid feature names, but SVC was fitted with feature names\n",
      "  warnings.warn(\n"
     ]
    },
    {
     "data": {
      "text/plain": [
       "array([2], dtype=uint8)"
      ]
     },
     "execution_count": 10,
     "metadata": {},
     "output_type": "execute_result"
    }
   ],
   "source": [
    "svm_clf_ovr.predict([some_digit])"
   ]
  },
  {
   "cell_type": "code",
   "execution_count": 11,
   "id": "a398a63a-848e-4214-a910-a9dc9610a5dd",
   "metadata": {},
   "outputs": [
    {
     "name": "stderr",
     "output_type": "stream",
     "text": [
      "/home/harshkulkarni/venv/lib/python3.9/site-packages/sklearn/base.py:445: UserWarning: X does not have valid feature names, but SVC was fitted with feature names\n",
      "  warnings.warn(\n",
      "/home/harshkulkarni/venv/lib/python3.9/site-packages/sklearn/base.py:445: UserWarning: X does not have valid feature names, but SVC was fitted with feature names\n",
      "  warnings.warn(\n",
      "/home/harshkulkarni/venv/lib/python3.9/site-packages/sklearn/base.py:445: UserWarning: X does not have valid feature names, but SVC was fitted with feature names\n",
      "  warnings.warn(\n",
      "/home/harshkulkarni/venv/lib/python3.9/site-packages/sklearn/base.py:445: UserWarning: X does not have valid feature names, but SVC was fitted with feature names\n",
      "  warnings.warn(\n",
      "/home/harshkulkarni/venv/lib/python3.9/site-packages/sklearn/base.py:445: UserWarning: X does not have valid feature names, but SVC was fitted with feature names\n",
      "  warnings.warn(\n",
      "/home/harshkulkarni/venv/lib/python3.9/site-packages/sklearn/base.py:445: UserWarning: X does not have valid feature names, but SVC was fitted with feature names\n",
      "  warnings.warn(\n",
      "/home/harshkulkarni/venv/lib/python3.9/site-packages/sklearn/base.py:445: UserWarning: X does not have valid feature names, but SVC was fitted with feature names\n",
      "  warnings.warn(\n",
      "/home/harshkulkarni/venv/lib/python3.9/site-packages/sklearn/base.py:445: UserWarning: X does not have valid feature names, but SVC was fitted with feature names\n",
      "  warnings.warn(\n",
      "/home/harshkulkarni/venv/lib/python3.9/site-packages/sklearn/base.py:445: UserWarning: X does not have valid feature names, but SVC was fitted with feature names\n",
      "  warnings.warn(\n",
      "/home/harshkulkarni/venv/lib/python3.9/site-packages/sklearn/base.py:445: UserWarning: X does not have valid feature names, but SVC was fitted with feature names\n",
      "  warnings.warn(\n"
     ]
    },
    {
     "data": {
      "text/plain": [
       "array([[-2.03446217, -2.81207233,  1.69822406, -1.13916881, -2.58783509,\n",
       "        -2.41481011, -2.42337939, -2.5950999 , -1.38478999, -1.30581245]])"
      ]
     },
     "execution_count": 11,
     "metadata": {},
     "output_type": "execute_result"
    }
   ],
   "source": [
    "svm_clf_ovr.decision_function([some_digit])"
   ]
  },
  {
   "cell_type": "code",
   "execution_count": 12,
   "id": "f777bc6a-4cea-4f35-a255-16a3185cbe12",
   "metadata": {},
   "outputs": [
    {
     "data": {
      "text/plain": [
       "10"
      ]
     },
     "execution_count": 12,
     "metadata": {},
     "output_type": "execute_result"
    }
   ],
   "source": [
    "len(svm_clf_ovr.estimators_)"
   ]
  },
  {
   "cell_type": "markdown",
   "id": "790b70a2-35dc-46e2-8d5e-44ab48fec6fe",
   "metadata": {},
   "source": [
    "This is basically a OvR technique"
   ]
  },
  {
   "cell_type": "code",
   "execution_count": null,
   "id": "999c92d6-f87b-49ab-9bd0-0c6e2f9c736f",
   "metadata": {},
   "outputs": [],
   "source": []
  },
  {
   "cell_type": "code",
   "execution_count": 13,
   "id": "9756395e-a7bd-418a-829f-23a6c52e4a17",
   "metadata": {},
   "outputs": [],
   "source": [
    "svm_clf_ovo=OneVsOneClassifier(SVC())"
   ]
  },
  {
   "cell_type": "code",
   "execution_count": 14,
   "id": "3baecbad-6675-486c-a603-6ee57db377da",
   "metadata": {},
   "outputs": [
    {
     "data": {
      "text/plain": [
       "OneVsOneClassifier(estimator=SVC())"
      ]
     },
     "execution_count": 14,
     "metadata": {},
     "output_type": "execute_result"
    }
   ],
   "source": [
    "svm_clf_ovo.fit(X_train,y_train)"
   ]
  },
  {
   "cell_type": "code",
   "execution_count": 15,
   "id": "26010375-2fc0-4322-b8c2-d33c09df3b4c",
   "metadata": {},
   "outputs": [
    {
     "name": "stderr",
     "output_type": "stream",
     "text": [
      "/home/harshkulkarni/venv/lib/python3.9/site-packages/sklearn/base.py:445: UserWarning: X does not have valid feature names, but OneVsOneClassifier was fitted with feature names\n",
      "  warnings.warn(\n"
     ]
    },
    {
     "data": {
      "text/plain": [
       "array([2], dtype=uint8)"
      ]
     },
     "execution_count": 15,
     "metadata": {},
     "output_type": "execute_result"
    }
   ],
   "source": [
    "svm_clf_ovo.predict([some_digit])"
   ]
  },
  {
   "cell_type": "code",
   "execution_count": 16,
   "id": "8d039e7c-1b4d-4786-ad93-5ae5127e2e92",
   "metadata": {},
   "outputs": [
    {
     "name": "stderr",
     "output_type": "stream",
     "text": [
      "/home/harshkulkarni/venv/lib/python3.9/site-packages/sklearn/base.py:445: UserWarning: X does not have valid feature names, but OneVsOneClassifier was fitted with feature names\n",
      "  warnings.warn(\n"
     ]
    },
    {
     "data": {
      "text/plain": [
       "array([[ 2.74462692, -0.29919237,  9.3141368 ,  7.26822372,  3.75741665,\n",
       "         3.74458518,  0.7110088 ,  2.76267522,  8.27641978,  6.2070111 ]])"
      ]
     },
     "execution_count": 16,
     "metadata": {},
     "output_type": "execute_result"
    }
   ],
   "source": [
    "svm_clf_ovo.decision_function([some_digit])"
   ]
  },
  {
   "cell_type": "code",
   "execution_count": 18,
   "id": "1d44aa1b-7709-44ca-94aa-a3a48858176f",
   "metadata": {},
   "outputs": [
    {
     "data": {
      "text/plain": [
       "45"
      ]
     },
     "execution_count": 18,
     "metadata": {},
     "output_type": "execute_result"
    }
   ],
   "source": [
    "len(svm_clf_ovo.estimators_)"
   ]
  },
  {
   "cell_type": "markdown",
   "id": "ca899830-8bcb-4c90-b43f-1b0004f165ca",
   "metadata": {},
   "source": [
    "This is One Vs One Classifier"
   ]
  },
  {
   "cell_type": "code",
   "execution_count": null,
   "id": "0682b48b-0f3b-43ef-b522-9959832166fe",
   "metadata": {},
   "outputs": [],
   "source": []
  },
  {
   "cell_type": "code",
   "execution_count": null,
   "id": "890b0cd6-285e-4beb-91ea-c834f561f20b",
   "metadata": {},
   "outputs": [],
   "source": [
    "y_train_pred_ovr=svm_clf_ovr.predict(X_train)"
   ]
  },
  {
   "cell_type": "code",
   "execution_count": null,
   "id": "85399ef0-24bb-419e-9e2b-7bf33abd3a43",
   "metadata": {},
   "outputs": [],
   "source": [
    "y_train_pred_ovo=svm"
   ]
  },
  {
   "cell_type": "code",
   "execution_count": null,
   "id": "881589f1-202c-4ceb-b00f-6f4bd3d35ef6",
   "metadata": {},
   "outputs": [],
   "source": []
  }
 ],
 "metadata": {
  "kernelspec": {
   "display_name": "Python 3 (ipykernel)",
   "language": "python",
   "name": "python3"
  },
  "language_info": {
   "codemirror_mode": {
    "name": "ipython",
    "version": 3
   },
   "file_extension": ".py",
   "mimetype": "text/x-python",
   "name": "python",
   "nbconvert_exporter": "python",
   "pygments_lexer": "ipython3",
   "version": "3.9.5"
  }
 },
 "nbformat": 4,
 "nbformat_minor": 5
}
